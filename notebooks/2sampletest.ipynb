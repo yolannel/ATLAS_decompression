{
 "cells": [
  {
   "cell_type": "code",
   "execution_count": null,
   "id": "8c584dc2",
   "metadata": {},
   "outputs": [
    {
     "ename": "ModuleNotFoundError",
     "evalue": "No module named 'shap'",
     "output_type": "error",
     "traceback": [
      "\u001b[31m---------------------------------------------------------------------------\u001b[39m",
      "\u001b[31mModuleNotFoundError\u001b[39m                       Traceback (most recent call last)",
      "\u001b[36mCell\u001b[39m\u001b[36m \u001b[39m\u001b[32mIn[19]\u001b[39m\u001b[32m, line 6\u001b[39m\n\u001b[32m      4\u001b[39m \u001b[38;5;28;01mfrom\u001b[39;00m\u001b[38;5;250m \u001b[39m\u001b[34;01msklearn\u001b[39;00m\u001b[34;01m.\u001b[39;00m\u001b[34;01mmetrics\u001b[39;00m\u001b[38;5;250m \u001b[39m\u001b[38;5;28;01mimport\u001b[39;00m accuracy_score\n\u001b[32m      5\u001b[39m \u001b[38;5;28;01mfrom\u001b[39;00m\u001b[38;5;250m \u001b[39m\u001b[34;01mscipy\u001b[39;00m\u001b[34;01m.\u001b[39;00m\u001b[34;01mstats\u001b[39;00m\u001b[38;5;250m \u001b[39m\u001b[38;5;28;01mimport\u001b[39;00m binomtest\n\u001b[32m----> \u001b[39m\u001b[32m6\u001b[39m \u001b[38;5;28;01mimport\u001b[39;00m\u001b[38;5;250m \u001b[39m\u001b[34;01mshap\u001b[39;00m\n\u001b[32m      8\u001b[39m \u001b[38;5;28;01mimport\u001b[39;00m\u001b[38;5;250m \u001b[39m\u001b[34;01muproot\u001b[39;00m   \u001b[38;5;66;03m# use of root files\u001b[39;00m\n\u001b[32m      9\u001b[39m \u001b[38;5;28;01mimport\u001b[39;00m\u001b[38;5;250m \u001b[39m\u001b[34;01mawkward\u001b[39;00m\u001b[38;5;250m \u001b[39m\u001b[38;5;28;01mas\u001b[39;00m\u001b[38;5;250m \u001b[39m\u001b[34;01mak\u001b[39;00m    \u001b[38;5;66;03m# nested, variable sized data\u001b[39;00m\n",
      "\u001b[31mModuleNotFoundError\u001b[39m: No module named 'shap'"
     ]
    }
   ],
   "source": [
    "import numpy as np\n",
    "from sklearn.model_selection import train_test_split\n",
    "from sklearn.linear_model import LogisticRegression\n",
    "from sklearn.metrics import accuracy_score\n",
    "from scipy.stats import binomtest\n",
    "\n",
    "import uproot   # use of root files\n",
    "import awkward as ak    # nested, variable sized data\n",
    "import vector   # lorentz vectors\n",
    "vector.register_awkward()\n",
    "np.random.seed(42)"
   ]
  },
  {
   "cell_type": "code",
   "execution_count": 17,
   "id": "352637d1",
   "metadata": {},
   "outputs": [
    {
     "name": "stdout",
     "output_type": "stream",
     "text": [
      "Original: 10,019 electrons\n",
      "Compressed: 10,019 electrons\n"
     ]
    }
   ],
   "source": [
    "filename = \"/cvmfs/atlas-nightlies.cern.ch/repo/data/data-art/ASG/DAOD_PHYSLITE/p6479/data18_13TeV.00348885.physics_Main.deriv.DAOD_PHYSLITE.r13286_p4910_p6479/DAOD_PHYSLITE.41578717._000256.pool.root.1\"\n",
    "compressed = \"/eos/user/y/yolanney/compressedDAOD_PHYSLITE.pool.root\"\n",
    "# Load original\n",
    "tree_orig = uproot.open({filename: \"CollectionTree\"})\n",
    "el_pt_orig = tree_orig[\"AnalysisElectronsAuxDyn.pt\"].array()\n",
    "original = ak.flatten(el_pt_orig).to_numpy()\n",
    "\n",
    "# Load compressed\n",
    "tree_comp = uproot.open({compressed: \"CollectionTree\"})\n",
    "el_pt_comp = tree_comp[\"AnalysisElectronsAuxDyn.pt\"].array()\n",
    "compressed = ak.flatten(el_pt_comp).to_numpy()\n",
    "\n",
    "print(f'Original: {len(original):,} electrons')\n",
    "print(f'Compressed: {len(compressed):,} electrons')"
   ]
  },
  {
   "cell_type": "code",
   "execution_count": 21,
   "id": "2cbf5c07",
   "metadata": {},
   "outputs": [
    {
     "name": "stdout",
     "output_type": "stream",
     "text": [
      "RF Feature Importances: [1.]\n",
      "\n",
      "Classifier: RF\n",
      "Mean Accuracy: 0.915\n",
      "p-value: 0.00000\n",
      "Reject H0 (P≠Q)? True\n",
      "\n",
      "Classifier: MLP\n",
      "Mean Accuracy: 0.501\n",
      "p-value: 0.35818\n",
      "Reject H0 (P≠Q)? False\n"
     ]
    }
   ],
   "source": [
    "import numpy as np\n",
    "from sklearn.model_selection import train_test_split\n",
    "from sklearn.linear_model import LogisticRegression\n",
    "from sklearn.ensemble import RandomForestClassifier\n",
    "from xgboost import XGBClassifier\n",
    "from sklearn.svm import SVC\n",
    "from sklearn.neural_network import MLPClassifier\n",
    "from sklearn.metrics import accuracy_score\n",
    "from scipy.stats import binomtest\n",
    "\n",
    "def c2st_advanced(orig, comp, classifier_type='lr', n_trials=10, test_size=0.5, random_state=42):\n",
    "    \"\"\"\n",
    "    Perform C2ST with a chosen advanced classifier.\n",
    "    \n",
    "    Args:\n",
    "        orig (np.ndarray): Original samples (shape: [n_samples,]).\n",
    "        comp (np.ndarray): Comparison samples (shape: [m_samples,]).\n",
    "        classifier_type (str): 'lr', 'rf', 'xgb', 'svm', or 'mlp'.\n",
    "        n_trials (int): Number of trials to average results.\n",
    "        test_size (float): Fraction of data for testing.\n",
    "        random_state (int): Random seed.\n",
    "        \n",
    "    Returns:\n",
    "        dict: Mean accuracy, p-value, and H0 rejection status.\n",
    "    \"\"\"\n",
    "    # Reshape to (n_samples, 1)\n",
    "    orig = orig.reshape(-1, 1)\n",
    "    comp = comp.reshape(-1, 1)\n",
    "    \n",
    "    # Balance datasets\n",
    "    min_samples = min(len(orig), len(comp))\n",
    "    X = np.vstack([orig[:min_samples], comp[:min_samples]])\n",
    "    y = np.hstack([np.ones(min_samples), np.zeros(min_samples)])\n",
    "    \n",
    "    # Initialize classifier\n",
    "    if classifier_type == 'lr':\n",
    "        clf = LogisticRegression(max_iter=1000, random_state=random_state)\n",
    "    elif classifier_type == 'rf':\n",
    "        clf = RandomForestClassifier(n_estimators=100, random_state=random_state)\n",
    "    elif classifier_type == 'xgb':\n",
    "        clf = XGBClassifier(random_state=random_state)\n",
    "    elif classifier_type == 'svm':\n",
    "        clf = SVC(kernel='rbf', random_state=random_state)\n",
    "    elif classifier_type == 'mlp':\n",
    "        clf = MLPClassifier(hidden_layer_sizes=(64, 64, 64, 32), max_iter=500, random_state=random_state)\n",
    "    else:\n",
    "        raise ValueError(\"Classifier not supported. Use 'lr', 'rf', 'xgb', 'svm', or 'mlp'.\")\n",
    "    \n",
    "    n_correct = 0\n",
    "    n_total = 0\n",
    "    for i in range(n_trials):\n",
    "        X_train, X_test, y_train, y_test = train_test_split(\n",
    "            X, y, test_size=test_size, random_state=random_state + i\n",
    "        )\n",
    "        clf.fit(X_train, y_train)\n",
    "        y_pred = clf.predict(X_test)\n",
    "        n_correct += np.sum(y_pred == y_test)\n",
    "        n_total += len(y_test)\n",
    "\n",
    "    if classifier_type == 'rf':\n",
    "        importances = clf.feature_importances_\n",
    "        print(\"RF Feature Importances:\", importances)\n",
    "    mean_accuracy = n_correct / n_total\n",
    "    p_value = binomtest(n_correct, n_total, p=0.5, alternative='greater').pvalue\n",
    "    \n",
    "    return {\n",
    "        \"classifier\": classifier_type,\n",
    "        \"mean_accuracy\": mean_accuracy,\n",
    "        \"p_value\": p_value,\n",
    "        \"reject_H0\": p_value < 0.05\n",
    "    }\n",
    "\n",
    "# classifiers = ['lr', 'rf', 'xgb', 'svm', 'mlp']\n",
    "classifiers = ['rf', 'mlp']\n",
    "\n",
    "results = {}\n",
    "\n",
    "# Print results\n",
    "for clf, res in results.items():\n",
    "    print(f\"\\nClassifier: {res['classifier'].upper()}\")\n",
    "    print(f\"Mean Accuracy: {res['mean_accuracy']:.3f}\")\n",
    "    print(f\"p-value: {res['p_value']:.5f}\")\n",
    "    print(f\"Reject H0 (P≠Q)? {res['reject_H0']}\")"
   ]
  },
  {
   "cell_type": "markdown",
   "id": "e2845f2e",
   "metadata": {},
   "source": [
    "### Results (in case re-ran without completing)\n",
    "took 14m 24.8s\n",
    "\n",
    "Classifier: LR \\\n",
    "Mean Accuracy: 0.498 \\\n",
    "p-value: 0.83395 \\\n",
    "Reject H0 (P≠Q)? False\n",
    "\n",
    "Classifier: RF \\\n",
    "Mean Accuracy: 0.915 \\\n",
    "p-value: 0.00000 \\\n",
    "Reject H0 (P≠Q)? True\n",
    "\n",
    "Classifier: XGB \\\n",
    "Mean Accuracy: 0.509 \\\n",
    "p-value: 0.00000 \\\n",
    "Reject H0 (P≠Q)? True\n",
    "\n",
    "Classifier: SVM \\\n",
    "Mean Accuracy: 0.495 \\\n",
    "p-value: 0.99909 \\\n",
    "Reject H0 (P≠Q)? False\n",
    "\n",
    "Classifier: MLP, hidden_layer_sizes=(64, 32)\\\n",
    "Mean Accuracy: 0.500 \\\n",
    "p-value: 0.49622 \\\n",
    "Reject H0 (P≠Q)? False"
   ]
  },
  {
   "cell_type": "markdown",
   "id": "5f75d50b",
   "metadata": {},
   "source": [
    "### **Key Observations**\n",
    "1. **Random Forest (RF) is the most powerful detector**  \n",
    "   - Accuracy = 91.5% (far above chance) and `p-value ≈ 0` strongly suggests `original ≠ compressed`.  \n",
    "   - RF’s decision trees likely captured nonlinear or high-order interactions missed by other models.\n",
    "\n",
    "2. **Logistic Regression (LR), SVM, and MLP failed to detect differences**  \n",
    "   - Accuracies ≈50% (`p-values > 0.05`) imply these classifiers couldn’t distinguish the distributions.  \n",
    "   - **Possible reasons**:  \n",
    "     - Differences are nonlinear (LR is linear; SVM’s RBF kernel may be misconfigured).  \n",
    "\n",
    "3. **XGBoost’s paradoxical result**  \n",
    "   - Accuracy = 50.9% (barely above chance) but `p-value = 0.000` suggests statistical significance \n",
    "   - This could indicate:  \n",
    "     - Very subtle differences (XGBoost detected minimal but consistent patterns).  \n",
    "     - Overfitting (check with more trials or cross-validation).\n"
   ]
  }
 ],
 "metadata": {
  "kernelspec": {
   "display_name": "Python (lcg106 wrapper)",
   "language": "python",
   "name": "lcg106"
  },
  "language_info": {
   "codemirror_mode": {
    "name": "ipython",
    "version": 3
   },
   "file_extension": ".py",
   "mimetype": "text/x-python",
   "name": "python",
   "nbconvert_exporter": "python",
   "pygments_lexer": "ipython3",
   "version": "3.11.9"
  }
 },
 "nbformat": 4,
 "nbformat_minor": 5
}
